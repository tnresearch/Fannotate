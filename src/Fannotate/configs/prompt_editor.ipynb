{
 "cells": [
  {
   "cell_type": "code",
   "execution_count": 9,
   "metadata": {},
   "outputs": [],
   "source": [
    "# Cell 1: Import necessary libraries\n",
    "import json\n",
    "\n",
    "# Load the JSON data from the file\n",
    "with open('prompts.json', 'r', encoding='utf-8') as file:\n",
    "    data = json.load(file)"
   ]
  },
  {
   "cell_type": "markdown",
   "metadata": {},
   "source": [
    "# Overview of prompts"
   ]
  },
  {
   "cell_type": "code",
   "execution_count": 10,
   "metadata": {},
   "outputs": [
    {
     "name": "stdout",
     "output_type": "stream",
     "text": [
      "Dataset: B2C_lvl1\n",
      "  - Prompt: instruction_1\n",
      "  - Prompt: instruction_w_keywords\n",
      "  - Prompt: full_description\n",
      "Dataset: B2C_lvl1_2024\n",
      "  - Prompt: instruction_w_keywords\n",
      "  - Prompt: full_description\n",
      "  - Prompt: full_desc_w_keywords\n",
      "  - Prompt: keywords\n",
      "  - Prompt: json_keywords\n",
      "Dataset: B2B_lvl2\n",
      "  - Prompt: keywords_lvl2\n",
      "  - Prompt: keywords_summary_lvl2\n",
      "  - Prompt: full_desc_lvl2\n",
      "Dataset: Testdata\n",
      "  - Prompt: new_prompt\n",
      "Dataset: Lydmaskinen\n",
      "  - Prompt: Lydmaskinen_sensitive\n"
     ]
    }
   ],
   "source": [
    "# Cell 2: OVERVIEW - Print an overview of all the prompts, without their content\n",
    "def print_overview(json_data):\n",
    "    for dataset, prompts in json_data.items():\n",
    "        print(f\"Dataset: {dataset}\")\n",
    "        for prompt_key in prompts.keys():\n",
    "            print(f\"  - Prompt: {prompt_key}\")\n",
    "\n",
    "print_overview(data)"
   ]
  },
  {
   "cell_type": "code",
   "execution_count": 11,
   "metadata": {},
   "outputs": [
    {
     "name": "stdout",
     "output_type": "stream",
     "text": [
      "{\n",
      "    \"sysprompt\": \"Her kommer det en liste med produktkategorier hos Telenor:\\n- Mobil: Mobilabonnement, SIM, eSIM, mobil-devicer (Mobiltelefon, iPad, tablets, klokke), inkl. ringetjenester (Ring EØS, datapakker mm.), Mobil Hjemmetelefon. \\n\\n- Bredbånd: Fiber og Coax. Bredbånd abonnement, hardware (ruter, router, modem, forsterker). Telenors infrastruktur/Kabelnett. Alltid på nett garanti. Denne inkluderer ikke mobilt bredbånd. \\n\\n- TV: T-We, TV-abonnement, TV-hardware: T-We Box (dekoder), bruk av T-We tjenester som opptak og ukesarkiv. Kanaler og strømmetjenester: NRK, TV2, TV2 Play, TV Norge, Discovery, TV3, HBO, National Geographic, BBC, Viasat, Premier League, Viasport,  Netflix. \\n\\n- Bredbånd-mobilt: Internetttilgang gjennom hardware (ruter m/Simkort, router med Simkort, og utvendig antenne). Trådløst Bredbånd, Mobilt Bredbånd. Inneholder også M2M og IoT. \\n\\n- Forsikring: Skjermforsikring og Plussforsikring, samt henvendelser vedrørende forsikring (eks. innmelding av skade / forsikringssaker, oversatte saker til forsikringsselskap). \\n\\n- E-post: Online Epost, E-postkonto, e-postfunksjonalitet, mapper, søppelpost (spam), spamfilter, betalt lagring. \\n\\n- Tjenester: Tilleggstjenester og sikkerhetsprodukter (SAFE, Svindelforsikring, Nettvern, Min Sky, Orden, Se Hvem, Mitt Spor, Telenor ID). Tredjepartstjenester som STREX og Google. \\n\\n- Annet: Ikke produktspesifikke samtaler (produkt ikke nevnt) f.eks. brutte anrop, kunder som ringer feil, eller har generelle henvendelser hvor produkt, tjeneste eller abonnement ikke blir nevnt. \\n\\nHer er tekst fra en samtale mellom kundeservice og en kunde. Angi hvilken produktkategori samtalen handler om, og svar kun med navnet på produktkategorien:\\n\",\n",
      "    \"model_type\": \"instruct\",\n",
      "    \"prompt_type\": \"zero-shot\",\n",
      "    \"refine_prompt\": {\n",
      "        \"inst_1\": \"Her er nogle kategorier: 'Annet', 'Mobil', 'Bredbånd-mobilt', 'Bredbånd', 'Tjenester', 'Forsikring', 'E-post' eller 'TV'. \\n Hvilken av kategoriene mener chatbotten teksten handler om? Svar kun med navn på kategori. Tekst fra chatbot: '\"\n",
      "    },\n",
      "    \"dataset_name\": \"B2C_lvl1_2024\",\n",
      "    \"language\": \"Nb\"\n",
      "}\n"
     ]
    }
   ],
   "source": [
    "# Cell 3: DETAILED VIEW - Select a particular prompt and print its content\n",
    "def print_detailed_view(json_data, dataset_name, prompt_key):\n",
    "    if dataset_name in json_data and prompt_key in json_data[dataset_name]:\n",
    "        print(json.dumps(json_data[dataset_name][prompt_key], indent=4, ensure_ascii=False))\n",
    "    else:\n",
    "        print(\"Dataset or prompt not found.\")\n",
    "\n",
    "# Example usage\n",
    "dataset_name = \"B2C_lvl1_2024\"\n",
    "prompt_key = \"instruction_w_keywords\"\n",
    "print_detailed_view(data, dataset_name, prompt_key)"
   ]
  },
  {
   "cell_type": "code",
   "execution_count": 12,
   "metadata": {},
   "outputs": [
    {
     "name": "stdout",
     "output_type": "stream",
     "text": [
      "{\n",
      "    \"sysprompt\": \"Her kommer det en liste med produktkategorier hos Telenor:\\n- Mobil: Telenor tilbyr mobilabonnementer med bred dekning, ulike datapakker og tilbud på siste telefonmodeller. Kategorien inneholder også datapakker og SIM-kort.\\n\\n- Forsikring: Telenor tilbyr forsikring for mobiltelefoner, som dekker tap, tyveri og skade, samt andre forsikringsprodukter gjennom samarbeidspartnere. Produktene er Plussforsikring og Skjermforsikring. Kategorien inneholder også henvendelser relatert til forsikringssaker, som behandles i en egen avdeling. Kategorien skal ikke inneholde SAFE Svindelforsikring, som skal kategoriseres som Tjenester.\\n\\n- Annet: Kategorien når produkter ikke er spesifikt oppgitt i samtalen. Gjelder særlig ved samtaler som er brutte eller når kunden har ringt feil. I disse samtalene blir det ikke snakket om verken produkttype eller abonnement. \\n\\n- E-post: Telenor leverer sikre og pålitelige e-posttjenester med funksjoner for personlig og profesjonell bruk, inkludert spamfiltrering og god brukervennlighet.\\n\\n- Bredbånd-mobilt: Telenors mobile bredbåndstjenester gir rask internettilgang på farten, eller installert på fast adresse med utvendig antenne. Kategorien inneholder produktene Trådløst Bredbånd, Mobilt Bredbånd, M2M og IoT.\\n\\n- Tjenester: Telenor tilbyr digitale tjenester slik som sikkerhetsløsninger og skytjenester. Eksempler på tjenester er SAFE, Svindelforsikring, id-tyveriforsikring, Min Sky, Se Hvem, Nettvern. I kategorien finnes også Telenor ID, samt Trejepartstjenester som bl.a. omfatter innholdstjenester som Strex.\\n\\n- Bredbånd: Telenors faste bredbånd gir pålitelig internett med ulike hastighetsalternativer, kombinert med kundevennlig service og teknisk support. I kategorien finnes fiber og coax bredbånd.\\n\\n- TV: Telenors TV-tjenester inkluderer et utvalg av kanalpakker, strømmetjenester og muligheter for opptak, alt tilpasset kundens underholdningsbehov. Sentralt er produktet T-We, som er Telenor TV-løsning.\\n\\nHer er tekst fra en samtale mellom kundeservice og en kunde. Angi hvilken produktkategori samtalen handler om, og svar kun med navnet på produktkategorien:\\n\",\n",
      "    \"model_type\": \"instruct\",\n",
      "    \"prompt_type\": \"zero-shot\",\n",
      "    \"refine_prompt\": {\n",
      "        \"inst_1\": \"Her er nogle kategorier: 'Annet', 'Mobil', 'Bredbånd-mobilt', 'Bredbånd', 'Tjenester', 'Forsikring', 'E-post' eller 'TV'. \\n Hvilken av kategoriene mener chatbotten teksten handler om? Svar kun med navn på kategori. Tekst fra chatbot: '\"\n",
      "    },\n",
      "    \"dataset_name\": \"B2C_lvl1_2024\",\n",
      "    \"language\": \"Nb\"\n",
      "}\n"
     ]
    }
   ],
   "source": [
    "# Example usage\n",
    "dataset_name = \"B2C_lvl1_2024\"\n",
    "prompt_key = \"full_description\"\n",
    "print_detailed_view(data, dataset_name, prompt_key)b"
   ]
  },
  {
   "cell_type": "code",
   "execution_count": 13,
   "metadata": {},
   "outputs": [
    {
     "name": "stdout",
     "output_type": "stream",
     "text": [
      "{\n",
      "    \"sysprompt\": \"The following is a json dictionary showing the valid product categories and a set of keywords for each of them. \\n\\n{\\n \\\"categories\\\": [\\n {\\n \\\"name\\\": \\\"Mobil\\\",\\n \\\"keywords\\\": [\\n \\\"Mobilabonnement\\\",\\n \\\"SIM\\\",\\n \\\"eSIM\\\",\\n \\\"mobil-devicer (Mobiltelefon, iPad, tablets, klokke)\\\",\\n \\\"Iphone\\\",\\n \\\"Samsung\\\",\\n \\\"Mobile ringetjenester: Ring EØS\\\",\\n \\\"datapakker mm.\\\",\\n \\\"Mobil Hjemmetelefon\\\"\\n ]\\n },\\n {\\n \\\"name\\\": \\\"Bredbånd\\\",\\n \\\"keywords\\\": [\\n \\\"Fiber og Coax\\\",\\n \\\"Bredbånd abonnement\\\",\\n \\\"hardware: ruter, router, modem, forsterker\\\",\\n \\\"Telenors infrastruktur/Kabelnett\\\"\\n ]\\n },\\n {\\n \\\"name\\\": \\\"TV\\\",\\n \\\"keywords\\\": [\\n \\\"T-We\\\",\\n \\\"TV-abonnement\\\",\\n \\\"TV-hardware: T-We Box (dekoder)\\\",\\n \\\"bruk av T-We TV tjenester som opptak og ukesarkiv\\\",\\n \\\"Kanaler og strømmetjenester: NRK, TV2, TV2 Play, TV Norge, Discovery, TV3, HBO, National Geographic, BBC, Viasat, Premier League, Viasport, Netflix, Max (maks)\\\"\\n ]\\n },\\n {\\n \\\"name\\\": \\\"Bredbånd-mobilt\\\",\\n \\\"description\\\": \\\"Denne kategorien inkluderer ikke Bredbånd (fiber eller coax).\\\",\\n \\\"keywords\\\": [\\n \\\"Mobilt Bredbånd og Trådløst Bredbånds abonnement\\\",\\n \\\"hardware: ruter, router, forsterker\\\",\\n \\\"antenne beregnet for Trådløst Bredbånd\\\"\\n ]\\n },\\n {\\n \\\"name\\\": \\\"Forsikring\\\",\\n \\\"description\\\": \\\"Denne kategorien innbefatter ikke SAFE id tyveriforsikring, SAFE Svindelforsikring, SAFE WiFi eller noen av de andre SAFE-produktene som tilhører kategorien Tjenester.\\\",\\n \\\"keywords\\\": [\\n \\\"Plussforsikring\\\",\\n \\\"Skjermforsikring\\\",\\n \\\"forsikring vedrørende SWAP\\\",\\n \\\"innmelding av skade på mobil\\\",\\n \\\"henvendelser til forsikringsselskap\\\",\\n \\\"generelle henvendelser om forsikring hvor produktnavn ikke blir oppgitt\\\"\\n ]\\n },\\n {\\n \\\"name\\\": \\\"Tjenester\\\",\\n \\\"keywords\\\": [\\n \\\"Telenor tjenester\\\",\\n \\\"tilleggstjenester\\\",\\n \\\"SAFE tyveri- og svindelforsikring\\\",\\n \\\"Se Hvem\\\",\\n \\\"Min Sky\\\",\\n \\\"Telenor ID\\\",\\n \\\"Nettvern\\\",\\n \\\"Mitt Spor\\\",\\n \\\"tredjepartstjenester slik som Babel, Strex, Google Play, Facebook, iCloud\\\"\\n ]\\n },\\n {\\n \\\"name\\\": \\\"Annet\\\",\\n \\\"description\\\": \\\"Henvendelser som ikke inneholder produktspesifikt innhold (produkt ikke nevnt) f.eks. brutte anrop, kunder som ringer feil, eller har generelle henvendelser hvor produkt, tjeneste eller abonnement ikke blir nevnt.\\\",\\n \\\"keywords\\\": [\\n \\\"Produkt ikke oppgitt: Ingen av Telenors produkter, tjenester eller teknologier eller abonnement er oppgitt, og kan derfor ikke identifiseres og kategorisere med de andre kategoriene.\\\"\\n ]\\n },\\n {\\n \\\"name\\\": \\\"E-post\\\",\\n \\\"keywords\\\": [\\n \\\"Online E-post\\\",\\n \\\"E-postkonto\\\",\\n \\\"e-postfunksjonalitet\\\",\\n \\\"mapper\\\",\\n \\\"søppelpost (spam)\\\",\\n \\\"spamfilter\\\",\\n \\\"betalt lagring av e-post\\\"\\n ]\\n }\\n ]\\n}\\n\\nBelow is a transcript of a customer service phonecall in norwegian. Please classify the transcript with either of the product categories specified above. Reply only with the category name.\\n\\n\",\n",
      "    \"model_type\": \"instruct\",\n",
      "    \"prompt_type\": \"zero-shot\",\n",
      "    \"refine_prompt\": {\n",
      "        \"inst_1\": \"Her er nogle kategorier: 'Mobil', 'Bredbånd', 'TV', 'Bredbånd-mobilt', 'Forsikring', 'Tjenester' eller 'Annet'. \\n Hvilken av kategoriene mener chatbotten teksten handler om? Svar kun med navn på kategori. Tekst fra chatbot: '\"\n",
      "    },\n",
      "    \"dataset_name\": \"B2C_lvl1_2024\",\n",
      "    \"language\": \"Nb\"\n",
      "}\n"
     ]
    }
   ],
   "source": [
    "# Example usage\n",
    "dataset_name = \"B2C_lvl1_2024\"\n",
    "prompt_key = \"json_keywords\"\n",
    "print_detailed_view(data, dataset_name, prompt_key)"
   ]
  },
  {
   "cell_type": "markdown",
   "metadata": {},
   "source": [
    "# Add a prompt"
   ]
  },
  {
   "cell_type": "code",
   "execution_count": 58,
   "metadata": {},
   "outputs": [],
   "source": [
    "raw_text = \"\"\"Her kommer det en liste med produktkategorier hos Telenor:\n",
    "\n",
    "Mobil: Henvendelser vedrørende mobil, mobilabonnementer med bred dekning, ulike datapakker og tilbud på siste telefonmodeller. Kategorien inneholder også datapakker og SIM-kort. Nøkkelord: Mobilabonnement, SIM, eSIM, mobil-devicer (Mobiltelefon, iPad, tablets, klokke), Iphone, Samsung, Mobile ringetjenester: Ring EØS, datapakker mm. Mobil Hjemmetelefon\n",
    "\n",
    "Bredbånd: Henvendelser vedrørende Bredbånd: Fiber og Coax. Bredbånd abonnement, hardware: ruter, router, modem, forsterker. Telenors infrastruktur/Kabelnett. Alltid på nett garanti. Henvendelser vedrørende bredbåndsproduktene, bredbåndsabonnement, fakturahenvendelser, bestilling og endring av bredbåndsabonnement, leveranse og montering/installasjon av bredbåndsløsning. Support, brukerveiledning og teknisk support og feilhenvendelser når det gjelder bredbånd. Denne kategorien inkluderer ikke mobilt bredbånd eller Trådløst Bredbånd. Nøkkelord: Fiber og Coax. Bredbånd abonnement, hardware: ruter, router, modem, forsterker. Telenors infrastruktur/Kabelnett.\n",
    "\n",
    "TV: Henvendelser vedrørende TV og produktet T-We, T-We abonnement, TV fakturahenvendelser, bestilling og endring av T-We abonnement, leveranse og montering/installasjon av TV løsning. Support, brukerveiledning og teknisk support og feilhenvendelser når det gjelder TV og T-We. Nøkkelord: T-We, TV-abonnement, TV-hardware: T-We Box (dekoder), bruk av T-We TV tjenester som opptak og ukesarkiv. Kanaler og strømmetjenester: NRK, TV2, TV2 Play, TV Norge, Discovery, TV3, HBO, National Geographic, BBC, Viasat, Premier League, Viasport, Netflix, Max (maks).\n",
    "\n",
    "Bredbånd-mobilt: envendelser vedrørende Mobilt Bredbånd, Trådløst Bredbånd og M2M og IoT abonnement, hardware: antenne, trådløs ruter, router, modem, forsterker. Henvendelser vedrørende fakturahenvendelser, bestilling og endring av abonnement på Mobilt Bredbånd og Trådløst Bredbånd, leveranse og montering/installasjon av utvendig antenne. Support, brukerveiledning og teknisk support og feilhenvendelser når det gjelder Trådløst Bredbånd. Denne kategorien inkluderer ikke Bredbånd (fiber eller coax). Nøkkelord: Mobilt Bredbånd og Trådløst Bredbånds abonnement, hardware: ruter, router, forsterker, og antenne beregnet for Trådløst Bredbånd.\n",
    "\n",
    "Forsikring: Henvendelser vedrørende forsikring, slik som bestilling eller oppsigelse av forsikring, fakturahenvendelser eller supporthenvendelser vedrørende forsikring, slik som Plussforsikring eller Skjermforsikring. Kategorien omhandler også gjenerelle forsikringshenvendelser, slik som å melde skade på mobil, og henvendelser som settes videre til forsikringsselskap. Denne kategorien innbefatter ikke SAFE id tyveriforsikring, SAFE Svindelforsikring, SAFE WiFi eller noen av de andre SAFE-produktene som tilhører kategorien Tjenester. Nøkkelord: Plussforsikring, Skjermforsikring, forsikring vedrørende SWAP, innmelding av skade på mobil, henvendelser til forsikringsselskap, og generelle henvendelser om forsikring hvor produktnavn ikke blir oppgitt.\n",
    "\n",
    "Tjenester: Henvendelser angående faktura, bestilling/endring, oppsigelse eller brukerveiledning / support vedrørende selvstendige tjenester levert av Telenor, slik som SAFE tyveri- og svindelforsikring, Se Hvem, Min Sky, Nettvern, Mitt Spor, Telenor ID. Kategorien omhandler også tredjepartstjenester slik som Babel, Strex, Google Play. Nøkkelord: Online E-post, E-postkonto, e-postfunksjonalitet, mapper, søppelpost (spam), spamfilter, betalt lagring av e-post.\n",
    "\n",
    "E-post: Henvendelser vedrørende Telenors e-posttjeneste Online E-post. Henvendelser omfatter bestilling eller endring av tjenesten, fakturahenvendelser, brukerveiledning av funksjonalitet, teknisk support ved feilsituasjoner og oppsigelse av tjenesten. Nøkkelord: Telenor tjenester, tilleggstjenester, SAFE tyveri- og svindelforsikring, Se Hvem, Min Sky, Telenor ID, Nettvern, Mitt Spor, tredjepartstjenester slik som Babel, Strex, Google Play, Facebook, iCloud.\n",
    "\n",
    "Annet: Henvendelser som ikke inneholder produktspesifikt innhold (produkt ikke nevnt) f.eks. brutte anrop, kunder som ringer feil, eller har generelle henvendelser hvor produkt, tjeneste eller abonnement ikke blir nevnt.\n",
    "\n",
    "Her er tekst fra en samtale mellom kundeservice og en kunde. Angi hvilken produktkategori samtalen handler om, og svar kun med navnet på produktkategorien:\\n\n",
    "\"\"\""
   ]
  },
  {
   "cell_type": "code",
   "execution_count": 59,
   "metadata": {},
   "outputs": [
    {
     "name": "stdout",
     "output_type": "stream",
     "text": [
      "Added prompt 'full_desc_w_keywords' to dataset 'B2C_lvl1_2024'.\n"
     ]
    }
   ],
   "source": [
    "# Cell 4: ADD - Add a prompt under a specific dataset\n",
    "def add_prompt(json_data, dataset_name, prompt_key, prompt_content):\n",
    "    if dataset_name not in json_data:\n",
    "        json_data[dataset_name] = {}\n",
    "    json_data[dataset_name][prompt_key] = prompt_content\n",
    "    print(f\"Added prompt '{prompt_key}' to dataset '{dataset_name}'.\")\n",
    "\n",
    "# Example usage\n",
    "new_prompt = {\n",
    "    \"sysprompt\": raw_text,\n",
    "    \"model_type\": \"instruct\",\n",
    "    \"prompt_type\": \"zero-shot\",\n",
    "    \"refine_prompt\": {\n",
    "        \"inst_1\": \"Her er nogle kategorier: 'Mobil', 'Bredbånd', 'TV', 'Bredbånd-mobilt', 'Forsikring', 'Tjenester' eller 'Annet'. \\n Hvilken av kategoriene mener chatbotten teksten handler om? Svar kun med navn på kategori. Tekst fra chatbot: '\"\n",
    "    },\n",
    "    \"dataset_name\": \"B2C_lvl1_2024\",\n",
    "    \"language\": \"Nb\"\n",
    "}\n",
    "add_prompt(data, \"B2C_lvl1_2024\", \"full_desc_w_keywords\", new_prompt)"
   ]
  },
  {
   "cell_type": "code",
   "execution_count": 60,
   "metadata": {},
   "outputs": [],
   "source": [
    "raw_text = \"\"\"Her kommer det en liste med produktkategorier hos Telenor:\n",
    "\n",
    "Mobil: Mobilabonnement, SIM, eSIM, mobil-devicer (Mobiltelefon, iPad, tablets, klokke), Iphone, Samsung, Mobile ringetjenester: Ring EØS, datapakker mm. Mobil Hjemmetelefon\n",
    "\n",
    "Bredbånd: Fiber og Coax. Bredbånd abonnement, hardware: ruter, router, modem, forsterker. Telenors infrastruktur/Kabelnett.\n",
    "\n",
    "TV: T-We, TV-abonnement, TV-hardware: T-We Box (dekoder), bruk av T-We TV tjenester som opptak og ukesarkiv. Kanaler og strømmetjenester: NRK, TV2, TV2 Play, TV Norge, Discovery, TV3, HBO, National Geographic, BBC, Viasat, Premier League, Viasport, Netflix, Max (maks).\n",
    "\n",
    "Bredbånd-mobilt: Denne kategorien inkluderer ikke Bredbånd (fiber eller coax). Nøkkelord: Mobilt Bredbånd og Trådløst Bredbånds abonnement, hardware: ruter, router, forsterker, og antenne beregnet for Trådløst Bredbånd.\n",
    "\n",
    "Forsikring: Denne kategorien innbefatter ikke SAFE id tyveriforsikring, SAFE Svindelforsikring, SAFE WiFi eller noen av de andre SAFE-produktene som tilhører kategorien Tjenester. Nøkkelord: Plussforsikring, Skjermforsikring, forsikring vedrørende SWAP, innmelding av skade på mobil, henvendelser til forsikringsselskap, og generelle henvendelser om forsikring hvor produktnavn ikke blir oppgitt.\n",
    "\n",
    "Tjenester: Telenor tjenester, tilleggstjenester, SAFE tyveri- og svindelforsikring, Se Hvem, Min Sky, Telenor ID, Nettvern, Mitt Spor, tredjepartstjenester slik som Babel, Strex, Google Play, Facebook, iCloud.\n",
    "\n",
    "Annet: Henvendelser som ikke inneholder produktspesifikt innhold (produkt ikke nevnt) f.eks. brutte anrop, kunder som ringer feil, eller har generelle henvendelser hvor produkt, tjeneste eller abonnement ikke blir nevnt.\n",
    "\n",
    "Her er tekst fra en samtale mellom kundeservice og en kunde. Angi hvilken produktkategori samtalen handler om, og svar kun med navnet på produktkategorien:\\n\n",
    "\"\"\""
   ]
  },
  {
   "cell_type": "code",
   "execution_count": 61,
   "metadata": {},
   "outputs": [
    {
     "name": "stdout",
     "output_type": "stream",
     "text": [
      "Added prompt 'keywords' to dataset 'B2C_lvl1_2024'.\n"
     ]
    }
   ],
   "source": [
    "\n",
    "# Example usage\n",
    "new_prompt = {\n",
    "    \"sysprompt\": raw_text,\n",
    "    \"model_type\": \"instruct\",\n",
    "    \"prompt_type\": \"zero-shot\",\n",
    "    \"refine_prompt\": {\n",
    "        \"inst_1\": \"Her er nogle kategorier: 'Mobil', 'Bredbånd', 'TV', 'Bredbånd-mobilt', 'Forsikring', 'Tjenester' eller 'Annet'. \\n Hvilken av kategoriene mener chatbotten teksten handler om? Svar kun med navn på kategori. Tekst fra chatbot: '\"\n",
    "    },\n",
    "    \"dataset_name\": \"B2C_lvl1_2024\",\n",
    "    \"language\": \"Nb\"\n",
    "}\n",
    "add_prompt(data, \"B2C_lvl1_2024\", \"keywords\", new_prompt)"
   ]
  },
  {
   "cell_type": "markdown",
   "metadata": {},
   "source": [
    "### JSON prompt"
   ]
  },
  {
   "cell_type": "code",
   "execution_count": 64,
   "metadata": {},
   "outputs": [],
   "source": [
    "def escape_quotes(json_prompt):\n",
    "    # Replace all double quotes with escaped double quotes\n",
    "    escaped_json_prompt = json_prompt.replace('\"', '\\\\\"')\n",
    "    return escaped_json_prompt"
   ]
  },
  {
   "cell_type": "code",
   "execution_count": 63,
   "metadata": {},
   "outputs": [],
   "source": [
    "raw_text = \"\"\"The following is a json dictionary showing the valid product categories and a set of keywords for each of them. \n",
    "\n",
    "{\n",
    "  \"categories\": [\n",
    "    {\n",
    "      \"name\": \"Mobil\",\n",
    "      \"keywords\": [\n",
    "        \"Mobilabonnement\",\n",
    "        \"SIM\",\n",
    "        \"eSIM\",\n",
    "        \"mobil-devicer (Mobiltelefon, iPad, tablets, klokke)\",\n",
    "        \"Iphone\",\n",
    "        \"Samsung\",\n",
    "        \"Mobile ringetjenester: Ring EØS\",\n",
    "        \"datapakker mm.\",\n",
    "        \"Mobil Hjemmetelefon\"\n",
    "      ]\n",
    "    },\n",
    "    {\n",
    "      \"name\": \"Bredbånd\",\n",
    "      \"keywords\": [\n",
    "        \"Fiber og Coax\",\n",
    "        \"Bredbånd abonnement\",\n",
    "        \"hardware: ruter, router, modem, forsterker\",\n",
    "        \"Telenors infrastruktur/Kabelnett\"\n",
    "      ]\n",
    "    },\n",
    "    {\n",
    "      \"name\": \"TV\",\n",
    "      \"keywords\": [\n",
    "        \"T-We\",\n",
    "        \"TV-abonnement\",\n",
    "        \"TV-hardware: T-We Box (dekoder)\",\n",
    "        \"bruk av T-We TV tjenester som opptak og ukesarkiv\",\n",
    "        \"Kanaler og strømmetjenester: NRK, TV2, TV2 Play, TV Norge, Discovery, TV3, HBO, National Geographic, BBC, Viasat, Premier League, Viasport, Netflix, Max (maks)\"\n",
    "      ]\n",
    "    },\n",
    "    {\n",
    "      \"name\": \"Bredbånd-mobilt\",\n",
    "      \"description\": \"Denne kategorien inkluderer ikke Bredbånd (fiber eller coax).\",\n",
    "      \"keywords\": [\n",
    "        \"Mobilt Bredbånd og Trådløst Bredbånds abonnement\",\n",
    "        \"hardware: ruter, router, forsterker\",\n",
    "        \"antenne beregnet for Trådløst Bredbånd\"\n",
    "      ]\n",
    "    },\n",
    "    {\n",
    "      \"name\": \"Forsikring\",\n",
    "      \"description\": \"Denne kategorien innbefatter ikke SAFE id tyveriforsikring, SAFE Svindelforsikring, SAFE WiFi eller noen av de andre SAFE-produktene som tilhører kategorien Tjenester.\",\n",
    "      \"keywords\": [\n",
    "        \"Plussforsikring\",\n",
    "        \"Skjermforsikring\",\n",
    "        \"forsikring vedrørende SWAP\",\n",
    "        \"innmelding av skade på mobil\",\n",
    "        \"henvendelser til forsikringsselskap\",\n",
    "        \"generelle henvendelser om forsikring hvor produktnavn ikke blir oppgitt\"\n",
    "      ]\n",
    "    },\n",
    "    {\n",
    "      \"name\": \"Tjenester\",\n",
    "      \"keywords\": [\n",
    "        \"Telenor tjenester\",\n",
    "        \"tilleggstjenester\",\n",
    "        \"SAFE tyveri- og svindelforsikring\",\n",
    "        \"Se Hvem\",\n",
    "        \"Min Sky\",\n",
    "        \"Telenor ID\",\n",
    "        \"Nettvern\",\n",
    "        \"Mitt Spor\",\n",
    "        \"tredjepartstjenester slik som Babel, Strex, Google Play, Facebook, iCloud\"\n",
    "      ]\n",
    "    },\n",
    "    {\n",
    "      \"name\": \"Annet\",\n",
    "      \"description\": \"Henvendelser som ikke inneholder produktspesifikt innhold (produkt ikke nevnt) f.eks. brutte anrop, kunder som ringer feil, eller har generelle henvendelser hvor produkt, tjeneste eller abonnement ikke blir nevnt.\",\n",
    "      \"keywords\": [\n",
    "        \"Produkt ikke oppgitt: Ingen av Telenors produkter, tjenester eller teknologier eller abonnement er oppgitt, og kan derfor ikke identifiseres og kategorisere med de andre kategoriene.\"\n",
    "      ]\n",
    "    }\n",
    "  ]\n",
    "}\n",
    "\n",
    "Below is a transcript of a customer service phonecall in norwegian. Please classify the transcript with either of the product categories specified above. Reply only with the category name.\\n\n",
    "\"\"\""
   ]
  },
  {
   "cell_type": "code",
   "execution_count": 65,
   "metadata": {},
   "outputs": [
    {
     "data": {
      "text/plain": [
       "'The following is a json dictionary showing the valid product categories and a set of keywords for each of them. \\n\\n{\\n  \\\\\"categories\\\\\": [\\n    {\\n      \\\\\"name\\\\\": \\\\\"Mobil\\\\\",\\n      \\\\\"keywords\\\\\": [\\n        \\\\\"Mobilabonnement\\\\\",\\n        \\\\\"SIM\\\\\",\\n        \\\\\"eSIM\\\\\",\\n        \\\\\"mobil-devicer (Mobiltelefon, iPad, tablets, klokke)\\\\\",\\n        \\\\\"Iphone\\\\\",\\n        \\\\\"Samsung\\\\\",\\n        \\\\\"Mobile ringetjenester: Ring EØS\\\\\",\\n        \\\\\"datapakker mm.\\\\\",\\n        \\\\\"Mobil Hjemmetelefon\\\\\"\\n      ]\\n    },\\n    {\\n      \\\\\"name\\\\\": \\\\\"Bredbånd\\\\\",\\n      \\\\\"keywords\\\\\": [\\n        \\\\\"Fiber og Coax\\\\\",\\n        \\\\\"Bredbånd abonnement\\\\\",\\n        \\\\\"hardware: ruter, router, modem, forsterker\\\\\",\\n        \\\\\"Telenors infrastruktur/Kabelnett\\\\\"\\n      ]\\n    },\\n    {\\n      \\\\\"name\\\\\": \\\\\"TV\\\\\",\\n      \\\\\"keywords\\\\\": [\\n        \\\\\"T-We\\\\\",\\n        \\\\\"TV-abonnement\\\\\",\\n        \\\\\"TV-hardware: T-We Box (dekoder)\\\\\",\\n        \\\\\"bruk av T-We TV tjenester som opptak og ukesarkiv\\\\\",\\n        \\\\\"Kanaler og strømmetjenester: NRK, TV2, TV2 Play, TV Norge, Discovery, TV3, HBO, National Geographic, BBC, Viasat, Premier League, Viasport, Netflix, Max (maks)\\\\\"\\n      ]\\n    },\\n    {\\n      \\\\\"name\\\\\": \\\\\"Bredbånd-mobilt\\\\\",\\n      \\\\\"description\\\\\": \\\\\"Denne kategorien inkluderer ikke Bredbånd (fiber eller coax).\\\\\",\\n      \\\\\"keywords\\\\\": [\\n        \\\\\"Mobilt Bredbånd og Trådløst Bredbånds abonnement\\\\\",\\n        \\\\\"hardware: ruter, router, forsterker\\\\\",\\n        \\\\\"antenne beregnet for Trådløst Bredbånd\\\\\"\\n      ]\\n    },\\n    {\\n      \\\\\"name\\\\\": \\\\\"Forsikring\\\\\",\\n      \\\\\"description\\\\\": \\\\\"Denne kategorien innbefatter ikke SAFE id tyveriforsikring, SAFE Svindelforsikring, SAFE WiFi eller noen av de andre SAFE-produktene som tilhører kategorien Tjenester.\\\\\",\\n      \\\\\"keywords\\\\\": [\\n        \\\\\"Plussforsikring\\\\\",\\n        \\\\\"Skjermforsikring\\\\\",\\n        \\\\\"forsikring vedrørende SWAP\\\\\",\\n        \\\\\"innmelding av skade på mobil\\\\\",\\n        \\\\\"henvendelser til forsikringsselskap\\\\\",\\n        \\\\\"generelle henvendelser om forsikring hvor produktnavn ikke blir oppgitt\\\\\"\\n      ]\\n    },\\n    {\\n      \\\\\"name\\\\\": \\\\\"Tjenester\\\\\",\\n      \\\\\"keywords\\\\\": [\\n        \\\\\"Telenor tjenester\\\\\",\\n        \\\\\"tilleggstjenester\\\\\",\\n        \\\\\"SAFE tyveri- og svindelforsikring\\\\\",\\n        \\\\\"Se Hvem\\\\\",\\n        \\\\\"Min Sky\\\\\",\\n        \\\\\"Telenor ID\\\\\",\\n        \\\\\"Nettvern\\\\\",\\n        \\\\\"Mitt Spor\\\\\",\\n        \\\\\"tredjepartstjenester slik som Babel, Strex, Google Play, Facebook, iCloud\\\\\"\\n      ]\\n    },\\n    {\\n      \\\\\"name\\\\\": \\\\\"Annet\\\\\",\\n      \\\\\"description\\\\\": \\\\\"Henvendelser som ikke inneholder produktspesifikt innhold (produkt ikke nevnt) f.eks. brutte anrop, kunder som ringer feil, eller har generelle henvendelser hvor produkt, tjeneste eller abonnement ikke blir nevnt.\\\\\",\\n      \\\\\"keywords\\\\\": [\\n        \\\\\"Produkt ikke oppgitt: Ingen av Telenors produkter, tjenester eller teknologier eller abonnement er oppgitt, og kan derfor ikke identifiseres og kategorisere med de andre kategoriene.\\\\\"\\n      ]\\n    }\\n  ]\\n}\\n\\nBelow is a transcript of a customer service phonecall in norwegian. Please classify the transcript with either of the product categories specified above. Reply only with the category name.\\n\\n'"
      ]
     },
     "execution_count": 65,
     "metadata": {},
     "output_type": "execute_result"
    }
   ],
   "source": [
    "escaped_json_prompt = escape_quotes(raw_text)\n",
    "escaped_json_prompt"
   ]
  },
  {
   "cell_type": "code",
   "execution_count": 66,
   "metadata": {},
   "outputs": [
    {
     "name": "stdout",
     "output_type": "stream",
     "text": [
      "Added prompt 'json_keywords' to dataset 'B2C_lvl1_2024'.\n"
     ]
    }
   ],
   "source": [
    "\n",
    "# Example usage\n",
    "new_prompt = {\n",
    "    \"sysprompt\": escaped_json_prompt,\n",
    "    \"model_type\": \"instruct\",\n",
    "    \"prompt_type\": \"zero-shot\",\n",
    "    \"refine_prompt\": {\n",
    "        \"inst_1\": \"Her er nogle kategorier: 'Mobil', 'Bredbånd', 'TV', 'Bredbånd-mobilt', 'Forsikring', 'Tjenester' eller 'Annet'. \\n Hvilken av kategoriene mener chatbotten teksten handler om? Svar kun med navn på kategori. Tekst fra chatbot: '\"\n",
    "    },\n",
    "    \"dataset_name\": \"B2C_lvl1_2024\",\n",
    "    \"language\": \"Nb\"\n",
    "}\n",
    "add_prompt(data, \"B2C_lvl1_2024\", \"json_keywords\", new_prompt)"
   ]
  },
  {
   "cell_type": "code",
   "execution_count": 67,
   "metadata": {},
   "outputs": [
    {
     "name": "stdout",
     "output_type": "stream",
     "text": [
      "Dataset: B2C_lvl1\n",
      "  - Prompt: instruction_1\n",
      "  - Prompt: instruction_w_keywords\n",
      "  - Prompt: full_description\n",
      "Dataset: B2C_lvl1_2024\n",
      "  - Prompt: instruction_w_keywords\n",
      "  - Prompt: full_description\n",
      "  - Prompt: full_desc_w_keywords\n",
      "  - Prompt: keywords\n",
      "  - Prompt: json_keywords\n",
      "Dataset: B2B_lvl2\n",
      "  - Prompt: keywords_lvl2\n",
      "  - Prompt: keywords_summary_lvl2\n",
      "  - Prompt: full_desc_lvl2\n",
      "Dataset: Testdata\n",
      "  - Prompt: new_prompt\n",
      "Dataset: Lydmaskinen\n",
      "  - Prompt: Lydmaskinen_sensitive\n"
     ]
    }
   ],
   "source": [
    "print_overview(data)"
   ]
  },
  {
   "cell_type": "markdown",
   "metadata": {},
   "source": [
    "# Modifying a json prompt:"
   ]
  },
  {
   "cell_type": "code",
   "execution_count": 10,
   "metadata": {},
   "outputs": [
    {
     "name": "stdout",
     "output_type": "stream",
     "text": [
      "{\\\"productName\\\": \\\"Mobil\\\", \\\"description\\\": \\\"Henvendelser vedrørende mobil...\\\"}\n"
     ]
    }
   ],
   "source": [
    "def escape_quotes(json_prompt):\n",
    "    \"\"\"\n",
    "    This function takes a string containing JSON data and escapes all double quotes,\n",
    "    making it suitable for inclusion as a value in another JSON object.\n",
    "    \n",
    "    :param json_prompt: The JSON string to be escaped.\n",
    "    :return: The escaped JSON string.\n",
    "    \"\"\"\n",
    "    # Replace all double quotes with escaped double quotes\n",
    "    escaped_json_prompt = json_prompt.replace('\"', '\\\\\"')\n",
    "    return escaped_json_prompt\n",
    "\n",
    "# Example usage\n",
    "json_prompt = '{\"productName\": \"Mobil\", \"description\": \"Henvendelser vedrørende mobil...\"}'\n",
    "escaped_json_prompt = escape_quotes(json_prompt)\n",
    "print(escaped_json_prompt)"
   ]
  },
  {
   "cell_type": "code",
   "execution_count": 12,
   "metadata": {},
   "outputs": [
    {
     "name": "stdout",
     "output_type": "stream",
     "text": [
      "Modified prompt 'instruction_1' in dataset 'B2C_lvl1'.\n"
     ]
    }
   ],
   "source": [
    "# Cell 5: MODIFY - Modify a particular prompt\n",
    "def modify_prompt(json_data, dataset_name, prompt_key, new_content):\n",
    "    if dataset_name in json_data and prompt_key in json_data[dataset_name]:\n",
    "        json_data[dataset_name][prompt_key] = new_content\n",
    "        print(f\"Modified prompt '{prompt_key}' in dataset '{dataset_name}'.\")\n",
    "    else:\n",
    "        print(\"Dataset or prompt not found.\")\n",
    "\n",
    "# Example usage\n",
    "modified_content = {\n",
    "    \"sysprompt\": \"Modified prompt content.\",\n",
    "    \"model_type\": \"instruct\",\n",
    "    \"prompt_type\": \"zero-shot\"\n",
    "}\n",
    "\n",
    "modify_prompt(data, \"B2C_lvl1\", \"instruction_1\", modified_content)"
   ]
  },
  {
   "cell_type": "markdown",
   "metadata": {},
   "source": [
    "## Delete prompts"
   ]
  },
  {
   "cell_type": "code",
   "execution_count": 68,
   "metadata": {},
   "outputs": [],
   "source": [
    "def delete_prompt(json_data, dataset_name, prompt_key):\n",
    "    \"\"\"\n",
    "    Deletes a specific prompt from a given dataset in the JSON data.\n",
    "\n",
    "    :param json_data: The JSON data as a dictionary.\n",
    "    :param dataset_name: The name of the dataset from which to delete the prompt.\n",
    "    :param prompt_key: The key of the prompt to be deleted.\n",
    "    :return: None\n",
    "    \"\"\"\n",
    "    if dataset_name in json_data:\n",
    "        if prompt_key in json_data[dataset_name]:\n",
    "            del json_data[dataset_name][prompt_key]\n",
    "            print(f\"Deleted prompt '{prompt_key}' from dataset '{dataset_name}'.\")\n",
    "        else:\n",
    "            print(f\"Prompt '{prompt_key}' not found in dataset '{dataset_name}'.\")\n",
    "    else:\n",
    "        print(f\"Dataset '{dataset_name}' not found.\")\n"
   ]
  },
  {
   "cell_type": "code",
   "execution_count": 69,
   "metadata": {},
   "outputs": [
    {
     "name": "stdout",
     "output_type": "stream",
     "text": [
      "Dataset: B2C_lvl1\n",
      "  - Prompt: instruction_1\n",
      "  - Prompt: instruction_w_keywords\n",
      "  - Prompt: full_description\n",
      "Dataset: B2C_lvl1_2024\n",
      "  - Prompt: instruction_w_keywords\n",
      "  - Prompt: full_description\n",
      "  - Prompt: full_desc_w_keywords\n",
      "  - Prompt: keywords\n",
      "  - Prompt: json_keywords\n",
      "Dataset: B2B_lvl2\n",
      "  - Prompt: keywords_lvl2\n",
      "  - Prompt: keywords_summary_lvl2\n",
      "  - Prompt: full_desc_lvl2\n",
      "Dataset: Testdata\n",
      "  - Prompt: new_prompt\n",
      "Dataset: Lydmaskinen\n",
      "  - Prompt: Lydmaskinen_sensitive\n"
     ]
    }
   ],
   "source": [
    "print_overview(data)"
   ]
  },
  {
   "cell_type": "code",
   "execution_count": null,
   "metadata": {},
   "outputs": [],
   "source": [
    "# Example usage\n",
    "#delete_prompt(data, \"B2C_lvl1_2024\", \"full_description\")\n",
    "#delete_prompt(data, \"B2C_lvl1_2024\", \"full_description\")"
   ]
  },
  {
   "cell_type": "code",
   "execution_count": 70,
   "metadata": {},
   "outputs": [
    {
     "name": "stdout",
     "output_type": "stream",
     "text": [
      "Dataset: B2C_lvl1\n",
      "  - Prompt: instruction_1\n",
      "  - Prompt: instruction_w_keywords\n",
      "  - Prompt: full_description\n",
      "Dataset: B2C_lvl1_2024\n",
      "  - Prompt: instruction_w_keywords\n",
      "  - Prompt: full_description\n",
      "  - Prompt: full_desc_w_keywords\n",
      "  - Prompt: keywords\n",
      "  - Prompt: json_keywords\n",
      "Dataset: B2B_lvl2\n",
      "  - Prompt: keywords_lvl2\n",
      "  - Prompt: keywords_summary_lvl2\n",
      "  - Prompt: full_desc_lvl2\n",
      "Dataset: Testdata\n",
      "  - Prompt: new_prompt\n",
      "Dataset: Lydmaskinen\n",
      "  - Prompt: Lydmaskinen_sensitive\n"
     ]
    }
   ],
   "source": [
    "print_overview(data)"
   ]
  },
  {
   "cell_type": "markdown",
   "metadata": {},
   "source": [
    "# Save changes"
   ]
  },
  {
   "cell_type": "code",
   "execution_count": 71,
   "metadata": {},
   "outputs": [],
   "source": [
    "# Cell 6: Save changes back to the JSON file\n",
    "with open('prompts.json', 'w', encoding='utf-8') as file:\n",
    "    json.dump(data, file, indent=4, ensure_ascii=False)"
   ]
  },
  {
   "cell_type": "code",
   "execution_count": null,
   "metadata": {},
   "outputs": [],
   "source": []
  }
 ],
 "metadata": {
  "kernelspec": {
   "display_name": "LMLLM",
   "language": "python",
   "name": "python3"
  },
  "language_info": {
   "codemirror_mode": {
    "name": "ipython",
    "version": 3
   },
   "file_extension": ".py",
   "mimetype": "text/x-python",
   "name": "python",
   "nbconvert_exporter": "python",
   "pygments_lexer": "ipython3",
   "version": "3.10.14"
  }
 },
 "nbformat": 4,
 "nbformat_minor": 2
}
